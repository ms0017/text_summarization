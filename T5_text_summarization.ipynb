{
 "cells": [
  {
   "cell_type": "code",
   "execution_count": 1,
   "metadata": {},
   "outputs": [
    {
     "name": "stdout",
     "output_type": "stream",
     "text": [
      "notebook running...\n"
     ]
    }
   ],
   "source": [
    "\"\"\"\n",
    "A very simple text summarization project\n",
    "The model uses pre-trained T5 model from HuggingFace\n",
    "\"\"\"\n",
    "print(\"notebook running...\")"
   ]
  },
  {
   "cell_type": "code",
   "execution_count": 2,
   "metadata": {
    "scrolled": false
   },
   "outputs": [
    {
     "name": "stderr",
     "output_type": "stream",
     "text": [
      "All model checkpoint layers were used when initializing TFT5ForConditionalGeneration.\n",
      "\n",
      "All the layers of TFT5ForConditionalGeneration were initialized from the model checkpoint at t5-large.\n",
      "If your task is similar to the task the model of the checkpoint was trained on, you can already use TFT5ForConditionalGeneration for predictions without further training.\n"
     ]
    }
   ],
   "source": [
    "# From HuggingFace, import tokenizer and t5 model\n",
    "from transformers import T5Tokenizer, TFT5ForConditionalGeneration\n",
    "model = TFT5ForConditionalGeneration.from_pretrained('t5-large')\n",
    "tokenizer = T5Tokenizer.from_pretrained('t5-large')"
   ]
  },
  {
   "cell_type": "code",
   "execution_count": 3,
   "metadata": {},
   "outputs": [],
   "source": [
    "# Sample article to process\n",
    "text =\"\"\" \n",
    "Google Cloud’s computer vision algos are accused of being biased: An experiment probing Google’s commercial image recognition models, via its Vision API, revealed the possibly biased nature of its training data.\n",
    "\n",
    "Algorithm Watch fed an image of someone with dark skin holding a temperature gun into the API, and the object was labelled as a “gun.” But when a photo of someone with fair skin holding the same object was fed into the cloud service, the temperature gun was recognized as an “electronic device.”\n",
    "\n",
    "To verify the difference in labeling was caused by the difference in skin color, the experiment was repeated with the image of the darker-skinned person tinted using a salmon-colored overlay. Google Cloud’s Vision API said the temperature gun in the altered picture was, bizarrely, a “monocular.”\n",
    "\n",
    "Tracy Frey, director of product strategy and operations at Google, apologized, and called the results “unacceptable,” though denied the mistake was down to “systemic bias related to skin tone”.\n",
    "\n",
    "“Our investigation found some objects were mis-labeled as firearms and these results existed across a range of skin tones. We have adjusted the confidence scores to more accurately return labels when a firearm is in a photograph,” she told Algorithm Watch.\n",
    "\n",
    "Intel and Georgia Tech win four-year DARPA AI contract: Research has shown adversarial examples fool machine-learning systems into making wrong decisions – such as mistaking toasters for bananas and vice-versa – by confusing them with maliciously crafted data. So far, adversarial examples that hoodwink a particular AI system will fail to trick any other AI, even if they are similar, due to their narrow nature.\n",
    "\n",
    "However, DARPA set up the Guaranteeing Artificial Intelligence Robustness against Deception (GARD) program to fund research into adversarial examples that are able to fool multiple similar machine-learning systems at once. Now, researchers at Intel and the Georgia Institute of Technology are leading that effort.\n",
    "\n",
    "“Intel is the prime contractor in this four-year, multimillion-dollar joint effort to improve cybersecurity defenses against deception attacks on machine learning models,” it announced this week.\n",
    "\n",
    "The eggheads will look at how to make machine-learning models more robust against adversarial attacks in realistic settings for “potential future attacks.”\n",
    "\n",
    "UCSD to analyze coronavirus lung scans with machine learning: AI researchers are studying chest X-rays to look for telltale signs of pneumonia associated with the COVID-19 coronavirus at the University of California, San Diego.\n",
    "\n",
    "It’s unclear whether COVID-19 lung infections are particularly distinctive compared to other diseases, so it’s difficult to use machine learning as a diagnostic tool.\n",
    "\n",
    "But researchers at UCSD can help combat the disease by suggesting patients with early signs of pneumonia be tested for COVID-19. “Patients may present with fever, cough, shortness of breath, or loss of smell,” Albert Hsiao, an associate professor of radiology at UCSD’s School of Medicine, told The Register.\n",
    "\n",
    "“Depending on the criteria, they may or may not be eligible for RT-PCR testing for COVID-19. False negative rate on RT-PCR is estimated around 70 per cent in some studies, so it can be falsely reassuring.\n",
    "\n",
    "“However, if we see signs of COVID-19 pneumonia on chest x-ray, which may be picked up by the AI algorithm, we may decide to test patients with RT-PCR who have not yet been tested, or re-test patients who have had a negative RT-PCR test already. Some patients have required 4 or more RT-PCR tests before they ultimately turn positive, even when x-ray or CT already show findings”\n",
    "\n",
    "You can read more about that study here.\n",
    "\n",
    "You don’t want to know what this AI smart toilet uses to identify its users: Get this, a team of researchers at Stanford University have built a smart toilet packed full of cameras and sensors to analyze your urine and stool samples with machine learning algorithms.\n",
    "\n",
    "If that’s not bad enough, this high-tech lav is able to capture the data and link it back to the right user by identifying people with pictures of their, er, let’s just refer to the study’s abstract.\n",
    "\n",
    "“Each user of the toilet is identified through their fingerprint and the distinctive features of their anoderm, and the data are securely stored and analysed in an encrypted cloud server.”\n",
    "\n",
    "Sod it, if you haven’t worked out what that means, it’s a picture of your butthole. Yes, as soon as you sit down to do your business on this toilet, any data will be stored under the right user profile because there might be multiple different people that use the same toilet in your house. All of that will be sent to a cloud server somewhere and stored so that you can monitor the health of your bowels.\n",
    "\n",
    "“We know it seems weird, but as it turns out, your anal print is unique,” said Sanjiv Gambhir, a radiology professor at Stanford University, who led the study. “The scans — both finger and nonfinger — are used purely as a recognition system to match users to their specific data. No one, not you or your doctor, will see the scans.”\n",
    "\n",
    "He believes that the AI toilet might help people with irritable bowel syndrome, prostate cancer, or kidney failure. Seung-Min Park, a senior research scientist at Stanford University's School of Medicine, told El Reg that they aim to sell their odd contraption for \"a few hundreds of dollars\".\n",
    "\n",
    "The researchers are already working \"version 2\" to offer more features like measuring glucose levels in urine or blood in stool samples.\n",
    "\"\"\""
   ]
  },
  {
   "cell_type": "code",
   "execution_count": 4,
   "metadata": {},
   "outputs": [
    {
     "name": "stderr",
     "output_type": "stream",
     "text": [
      "Token indices sequence length is longer than the specified maximum sequence length for this model (1264 > 512). Running this sequence through the model will result in indexing errors\n"
     ]
    }
   ],
   "source": [
    "# Tokenization + preprocessing\n",
    "Text = text.strip().replace(\"\\n\",\"\")\n",
    "Preprocessed_text = \"summarize:\" + Text\n",
    "tokens_input = tokenizer.encode(Preprocessed_text, padding=True, return_tensors=\"tf\")"
   ]
  },
  {
   "cell_type": "code",
   "execution_count": 5,
   "metadata": {},
   "outputs": [],
   "source": [
    "# Generate summary\n",
    "summary_ids = model.generate(tokens_input,\n",
    "                             min_length=60,\n",
    "                             max_length=500,\n",
    "                             )\n",
    "summary = tokenizer.decode(summary_ids[0])"
   ]
  },
  {
   "cell_type": "code",
   "execution_count": 6,
   "metadata": {},
   "outputs": [
    {
     "data": {
      "text/plain": [
       "\"<pad> experiment reveals bias in Google's image recognition algorithms. researchers at UCSD are studying x-rays for signs of pneumonia. they are using machine learning to identify people with unique fingerprints. the toilet could help people with irritable bowel syndrome, prostate cancer, or kidney failure.</s>\""
      ]
     },
     "execution_count": 6,
     "metadata": {},
     "output_type": "execute_result"
    }
   ],
   "source": [
    "summary"
   ]
  },
  {
   "cell_type": "code",
   "execution_count": null,
   "metadata": {},
   "outputs": [],
   "source": [
    "\"\"\"\n",
    "link to article: https://www.theregister.com/2020/04/13/ai_roundup/\n",
    "\"\"\""
   ]
  }
 ],
 "metadata": {
  "kernelspec": {
   "display_name": "Python 3",
   "language": "python",
   "name": "python3"
  },
  "language_info": {
   "codemirror_mode": {
    "name": "ipython",
    "version": 3
   },
   "file_extension": ".py",
   "mimetype": "text/x-python",
   "name": "python",
   "nbconvert_exporter": "python",
   "pygments_lexer": "ipython3",
   "version": "3.7.3"
  }
 },
 "nbformat": 4,
 "nbformat_minor": 2
}
